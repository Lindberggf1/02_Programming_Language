{
 "cells": [
  {
   "cell_type": "markdown",
   "id": "9293fb8f",
   "metadata": {},
   "source": [
    "# Tradução de Texto com Pyton"
   ]
  },
  {
   "cell_type": "code",
   "execution_count": 1,
   "id": "e59c3fe4",
   "metadata": {},
   "outputs": [
    {
     "name": "stdout",
     "output_type": "stream",
     "text": [
      "Collecting googletrans==3.1.0a0\n",
      "  Using cached googletrans-3.1.0a0-py3-none-any.whl\n",
      "Requirement already satisfied: httpx==0.13.3 in c:\\users\\blueshift\\anaconda3\\lib\\site-packages (from googletrans==3.1.0a0) (0.13.3)\n",
      "Requirement already satisfied: sniffio in c:\\users\\blueshift\\anaconda3\\lib\\site-packages (from httpx==0.13.3->googletrans==3.1.0a0) (1.2.0)\n",
      "Requirement already satisfied: idna==2.* in c:\\users\\blueshift\\anaconda3\\lib\\site-packages (from httpx==0.13.3->googletrans==3.1.0a0) (2.10)\n",
      "Requirement already satisfied: certifi in c:\\users\\blueshift\\anaconda3\\lib\\site-packages (from httpx==0.13.3->googletrans==3.1.0a0) (2022.6.15)\n",
      "Requirement already satisfied: chardet==3.* in c:\\users\\blueshift\\anaconda3\\lib\\site-packages (from httpx==0.13.3->googletrans==3.1.0a0) (3.0.4)\n",
      "Requirement already satisfied: rfc3986<2,>=1.3 in c:\\users\\blueshift\\anaconda3\\lib\\site-packages (from httpx==0.13.3->googletrans==3.1.0a0) (1.5.0)\n",
      "Requirement already satisfied: hstspreload in c:\\users\\blueshift\\anaconda3\\lib\\site-packages (from httpx==0.13.3->googletrans==3.1.0a0) (2022.7.10)\n",
      "Requirement already satisfied: httpcore==0.9.* in c:\\users\\blueshift\\anaconda3\\lib\\site-packages (from httpx==0.13.3->googletrans==3.1.0a0) (0.9.1)\n",
      "Requirement already satisfied: h11<0.10,>=0.8 in c:\\users\\blueshift\\anaconda3\\lib\\site-packages (from httpcore==0.9.*->httpx==0.13.3->googletrans==3.1.0a0) (0.9.0)\n",
      "Requirement already satisfied: h2==3.* in c:\\users\\blueshift\\anaconda3\\lib\\site-packages (from httpcore==0.9.*->httpx==0.13.3->googletrans==3.1.0a0) (3.2.0)\n",
      "Requirement already satisfied: hpack<4,>=3.0 in c:\\users\\blueshift\\anaconda3\\lib\\site-packages (from h2==3.*->httpcore==0.9.*->httpx==0.13.3->googletrans==3.1.0a0) (3.0.0)\n",
      "Requirement already satisfied: hyperframe<6,>=5.2.0 in c:\\users\\blueshift\\anaconda3\\lib\\site-packages (from h2==3.*->httpcore==0.9.*->httpx==0.13.3->googletrans==3.1.0a0) (5.2.0)\n",
      "Installing collected packages: googletrans\n",
      "Successfully installed googletrans-3.1.0a0\n"
     ]
    }
   ],
   "source": [
    "#!pip install googletrans # esta versao esta com erros no atributo \"NoneType\"\n",
    "#!pip uninstall googletrans\n",
    "\n",
    "# utilizar esta versao com a correcao temporaria\n",
    "!pip install googletrans==3.1.0a0  "
   ]
  },
  {
   "cell_type": "code",
   "execution_count": 2,
   "id": "ed094f03",
   "metadata": {},
   "outputs": [],
   "source": [
    "#!pip install traceback"
   ]
  },
  {
   "cell_type": "code",
   "execution_count": 3,
   "id": "6131caf3",
   "metadata": {},
   "outputs": [],
   "source": [
    "#Import traceback #para pilha de erro\n",
    "import time\n",
    "\n",
    "from googletrans import Translator\n",
    "from googletrans.gtoken import TokenAcquirer"
   ]
  },
  {
   "cell_type": "code",
   "execution_count": null,
   "id": "764d7ea0",
   "metadata": {},
   "outputs": [],
   "source": []
  },
  {
   "cell_type": "code",
   "execution_count": 8,
   "id": "a2a04b9d",
   "metadata": {},
   "outputs": [
    {
     "ename": "TypeError",
     "evalue": "__init__() missing 1 required positional argument: 'client'",
     "output_type": "error",
     "traceback": [
      "\u001b[1;31m---------------------------------------------------------------------------\u001b[0m",
      "\u001b[1;31mTypeError\u001b[0m                                 Traceback (most recent call last)",
      "Input \u001b[1;32mIn [8]\u001b[0m, in \u001b[0;36m<cell line: 4>\u001b[1;34m()\u001b[0m\n\u001b[0;32m      1\u001b[0m texto_en \u001b[38;5;241m=\u001b[39m \u001b[38;5;124m'\u001b[39m\u001b[38;5;124mWhats your name?\u001b[39m\u001b[38;5;124m'\u001b[39m\n\u001b[0;32m      3\u001b[0m translator \u001b[38;5;241m=\u001b[39m Translator()\n\u001b[1;32m----> 4\u001b[0m acquirer \u001b[38;5;241m=\u001b[39m \u001b[43mTokenAcquirer\u001b[49m\u001b[43m(\u001b[49m\u001b[43m)\u001b[49m\n\u001b[0;32m      5\u001b[0m acquirer\u001b[38;5;241m.\u001b[39mdo(texto_en)\n\u001b[0;32m      7\u001b[0m texto_pt \u001b[38;5;241m=\u001b[39m translator\u001b[38;5;241m.\u001b[39mtranslate(texto_pt, src\u001b[38;5;241m=\u001b[39m\u001b[38;5;124m'\u001b[39m\u001b[38;5;124men\u001b[39m\u001b[38;5;124m'\u001b[39m, dest\u001b[38;5;241m=\u001b[39m\u001b[38;5;124m'\u001b[39m\u001b[38;5;124mpt\u001b[39m\u001b[38;5;124m'\u001b[39m)\n",
      "\u001b[1;31mTypeError\u001b[0m: __init__() missing 1 required positional argument: 'client'"
     ]
    }
   ],
   "source": [
    "texto_en = 'Whats your name?'\n",
    "\n",
    "translator = Translator()\n",
    "acquirer = TokenAcquirer()\n",
    "acquirer.do(texto_en)\n",
    "\n",
    "texto_pt = translator.translate(texto_pt, src='en', dest='pt')\n",
    "\n",
    "print(texto_pt.text)"
   ]
  },
  {
   "cell_type": "code",
   "execution_count": 64,
   "id": "e073d505",
   "metadata": {},
   "outputs": [],
   "source": [
    "#funcao para traducao\n",
    "def iniciar():\n",
    "    urls = [\"translate.google.com\", \"translate.google.com.br\", \"translate.google.com.ar\", \"translate.google.com\"]\n",
    "    user = \"Mozilla/5.0 (Windows NT 10.0; Win64; x64) AppleWebKit/537.36 (KHTML, like Gecko) Chrome/103.0.0.0 Safari/537.36\"\n",
    "    \n",
    "    return Translator(service_urls=urls, user_agent=user, raise_exception=False, timeout=None)"
   ]
  },
  {
   "cell_type": "code",
   "execution_count": 65,
   "id": "d058845c",
   "metadata": {},
   "outputs": [],
   "source": [
    "def traduzir(frases):\n",
    "    for i in range(30):\n",
    "        try:\n",
    "            buffer = iniciar().translate(frases, dest='pt')\n",
    "            return buffer\n",
    "        except:\n",
    "            #print('Error ao tentar traduzir')\n",
    "            time.sleep(0)\n",
    "            \n",
    "        "
   ]
  },
  {
   "cell_type": "code",
   "execution_count": 66,
   "id": "d526734a",
   "metadata": {},
   "outputs": [],
   "source": [
    "# Aqui estaria no main"
   ]
  },
  {
   "cell_type": "code",
   "execution_count": 67,
   "id": "c0559a48",
   "metadata": {},
   "outputs": [],
   "source": [
    "frases = [\"What's my user agent?\", \"Whats your name?\"]"
   ]
  },
  {
   "cell_type": "code",
   "execution_count": 69,
   "id": "9ce93e58",
   "metadata": {},
   "outputs": [
    {
     "name": "stdout",
     "output_type": "stream",
     "text": [
      "None\n"
     ]
    }
   ],
   "source": [
    "print(traduzir(frases))"
   ]
  },
  {
   "cell_type": "code",
   "execution_count": 70,
   "id": "fb05d33a",
   "metadata": {},
   "outputs": [
    {
     "ename": "TypeError",
     "evalue": "'NoneType' object is not iterable",
     "output_type": "error",
     "traceback": [
      "\u001b[1;31m---------------------------------------------------------------------------\u001b[0m",
      "\u001b[1;31mTypeError\u001b[0m                                 Traceback (most recent call last)",
      "Input \u001b[1;32mIn [70]\u001b[0m, in \u001b[0;36m<cell line: 2>\u001b[1;34m()\u001b[0m\n\u001b[0;32m      1\u001b[0m retornos \u001b[38;5;241m=\u001b[39m traduzir(frases)\n\u001b[1;32m----> 2\u001b[0m \u001b[38;5;28;01mfor\u001b[39;00m retorno \u001b[38;5;129;01min\u001b[39;00m retornos:\n\u001b[0;32m      3\u001b[0m     \u001b[38;5;28mprint\u001b[39m(retorno\u001b[38;5;241m.\u001b[39mtext)\n",
      "\u001b[1;31mTypeError\u001b[0m: 'NoneType' object is not iterable"
     ]
    }
   ],
   "source": [
    "retornos = traduzir(frases)\n",
    "for retorno in retornos:\n",
    "    print(retorno.text)"
   ]
  },
  {
   "cell_type": "markdown",
   "id": "f3140cec",
   "metadata": {},
   "source": [
    "# Metodo 2"
   ]
  },
  {
   "cell_type": "code",
   "execution_count": 16,
   "id": "bfff4c9d",
   "metadata": {},
   "outputs": [],
   "source": [
    "import webbrowser\n",
    "import requests\n",
    "import time"
   ]
  },
  {
   "cell_type": "code",
   "execution_count": 17,
   "id": "c038ed1c",
   "metadata": {},
   "outputs": [],
   "source": [
    "def parse_string(text):\n",
    "    \"\"\"Replace the following characters in the text\"\"\"\n",
    "    special_characters = (\n",
    "            (\"%\", \"%25\"),\n",
    "            (\" \", \"%20\"),\n",
    "            (\",\", \"%2C\"),\n",
    "            (\"?\", \"%3F\"),\n",
    "            (\"\\n\", \"%0A\"),\n",
    "            ('\\\"', \"%22\"),\n",
    "            (\"<\", \"%3C\"),\n",
    "            (\">\", \"%3E\"),\n",
    "            (\"#\", \"%23\"),\n",
    "            (\"|\", \"%7C\"),\n",
    "            (\"&\", \"%26\"),\n",
    "            (\"=\", \"%3D\"),\n",
    "            (\"@\", \"%40\"),\n",
    "            (\"#\", \"%23\"),\n",
    "            (\"$\", \"%24\"),\n",
    "            (\"^\", \"%5E\"),\n",
    "            (\"`\", \"%60\"),\n",
    "            (\"+\", \"%2B\"),\n",
    "            (\"\\'\", \"%27\"),\n",
    "            (\"{\", \"%7B\"),\n",
    "            (\"}\", \"%7D\"),\n",
    "            (\"[\", \"%5B\"),\n",
    "            (\"]\", \"%5D\"),\n",
    "            (\"/\", \"%2F\"),\n",
    "            (\"\\\\\", \"%5C\"),\n",
    "            (\":\", \"%3A\"),\n",
    "            (\";\", \"%3B\")\n",
    "        )\n",
    "\n",
    "    for pair in special_characters:\n",
    "        text = text.replace(*pair)    \n",
    "\n",
    "    return text"
   ]
  },
  {
   "cell_type": "code",
   "execution_count": 19,
   "id": "12eaac89",
   "metadata": {},
   "outputs": [],
   "source": [
    "def open_google_trans(source_language=\"en\", target_language=\"pt\", text_to_translate=None):\n",
    "    \"\"\"\n",
    "        Translate the text from the source_language to the target_language, by opening the\n",
    "    Google Translate site with this info.\n",
    "        Parameters are all strings.\n",
    "        Return is None\n",
    "    \"\"\"\n",
    "\n",
    "    # exit the function if no text is submitted\n",
    "    if not text_to_translate:\n",
    "        print(\"No text submitted to translation.\\nPlease insert a text.\\n\")\n",
    "        return None\n",
    "\n",
    "    if text_to_translate.startswith(\"http\"):\n",
    "        text_to_translate = requests.get(text_to_translate).text\n",
    "\n",
    "    elif text_to_translate.endswith(\".txt\"):\n",
    "        with open(text_to_translate) as file:\n",
    "            text_to_translate = file.read()\n",
    "\n",
    "    # variables to be used in the url:\n",
    "    # source language\n",
    "    sl = source_language\n",
    "    # target language\n",
    "    tl = target_language\n",
    "    # operation\n",
    "    operation = \"translate\"\n",
    "    \n",
    "    text_to_translate = parse_string(text_to_translate)\n",
    "\n",
    "    # f-string with variables:\n",
    "    link = f\"https://translate.google.com/?sl={sl}&tl={tl}&text={text_to_translate}&op={operation}\"\n",
    "\n",
    "    # This function, from the webbrowser module, opens a link in the default browser\n",
    "    webbrowser.open(link)\n",
    "\n",
    "\n",
    "if __name__ == \"__main__\":\n",
    "    languages = [\"pt\", \"es\", \"eo\", \"la\", \"tr\", \"ko\", \"ja\"]\n",
    "    url = \"https://raw.githubusercontent.com/fabricius1/Google-Translate-Automation/master/textToTranslate.txt\"\n",
    "    text_to_translate = url\n",
    "    \n",
    "    for language in languages:\n",
    "        open_google_trans(\"en\", language, text_to_translate)\n",
    "        time.sleep(5)"
   ]
  },
  {
   "cell_type": "code",
   "execution_count": null,
   "id": "0b9a9b0f",
   "metadata": {},
   "outputs": [],
   "source": []
  }
 ],
 "metadata": {
  "kernelspec": {
   "display_name": "Python 3 (ipykernel)",
   "language": "python",
   "name": "python3"
  },
  "language_info": {
   "codemirror_mode": {
    "name": "ipython",
    "version": 3
   },
   "file_extension": ".py",
   "mimetype": "text/x-python",
   "name": "python",
   "nbconvert_exporter": "python",
   "pygments_lexer": "ipython3",
   "version": "3.9.12"
  }
 },
 "nbformat": 4,
 "nbformat_minor": 5
}

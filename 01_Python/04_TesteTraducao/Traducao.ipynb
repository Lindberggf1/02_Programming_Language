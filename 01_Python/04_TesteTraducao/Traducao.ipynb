{
 "cells": [
  {
   "cell_type": "code",
   "execution_count": null,
   "id": "e120ce09",
   "metadata": {},
   "outputs": [],
   "source": []
  },
  {
   "cell_type": "code",
   "execution_count": 84,
   "id": "e59c3fe4",
   "metadata": {},
   "outputs": [
    {
     "name": "stdout",
     "output_type": "stream",
     "text": [
      "Requirement already satisfied: googletrans in c:\\users\\blueshift\\anaconda3\\lib\\site-packages (3.0.0)\n",
      "Requirement already satisfied: httpx==0.13.3 in c:\\users\\blueshift\\anaconda3\\lib\\site-packages (from googletrans) (0.13.3)\n",
      "Requirement already satisfied: certifi in c:\\users\\blueshift\\anaconda3\\lib\\site-packages (from httpx==0.13.3->googletrans) (2022.5.18.1)\n",
      "Requirement already satisfied: httpcore==0.9.* in c:\\users\\blueshift\\anaconda3\\lib\\site-packages (from httpx==0.13.3->googletrans) (0.9.1)\n",
      "Requirement already satisfied: chardet==3.* in c:\\users\\blueshift\\anaconda3\\lib\\site-packages (from httpx==0.13.3->googletrans) (3.0.4)\n",
      "Requirement already satisfied: idna==2.* in c:\\users\\blueshift\\anaconda3\\lib\\site-packages (from httpx==0.13.3->googletrans) (2.10)\n",
      "Requirement already satisfied: sniffio in c:\\users\\blueshift\\anaconda3\\lib\\site-packages (from httpx==0.13.3->googletrans) (1.2.0)\n",
      "Requirement already satisfied: rfc3986<2,>=1.3 in c:\\users\\blueshift\\anaconda3\\lib\\site-packages (from httpx==0.13.3->googletrans) (1.5.0)\n",
      "Requirement already satisfied: hstspreload in c:\\users\\blueshift\\anaconda3\\lib\\site-packages (from httpx==0.13.3->googletrans) (2022.7.10)\n",
      "Requirement already satisfied: h2==3.* in c:\\users\\blueshift\\anaconda3\\lib\\site-packages (from httpcore==0.9.*->httpx==0.13.3->googletrans) (3.2.0)\n",
      "Requirement already satisfied: h11<0.10,>=0.8 in c:\\users\\blueshift\\anaconda3\\lib\\site-packages (from httpcore==0.9.*->httpx==0.13.3->googletrans) (0.9.0)\n",
      "Requirement already satisfied: hpack<4,>=3.0 in c:\\users\\blueshift\\anaconda3\\lib\\site-packages (from h2==3.*->httpcore==0.9.*->httpx==0.13.3->googletrans) (3.0.0)\n",
      "Requirement already satisfied: hyperframe<6,>=5.2.0 in c:\\users\\blueshift\\anaconda3\\lib\\site-packages (from h2==3.*->httpcore==0.9.*->httpx==0.13.3->googletrans) (5.2.0)\n"
     ]
    }
   ],
   "source": [
    "!pip install googletrans"
   ]
  },
  {
   "cell_type": "code",
   "execution_count": 85,
   "id": "ed094f03",
   "metadata": {},
   "outputs": [],
   "source": [
    "#!pip install traceback"
   ]
  },
  {
   "cell_type": "code",
   "execution_count": 100,
   "id": "6131caf3",
   "metadata": {},
   "outputs": [],
   "source": [
    "#Import traceback #para pilha de erro\n",
    "import time\n",
    "\n",
    "from googletrans import Translator"
   ]
  },
  {
   "cell_type": "code",
   "execution_count": 87,
   "id": "e073d505",
   "metadata": {},
   "outputs": [],
   "source": [
    "#funcao para traducao\n",
    "def iniciar():\n",
    "    urls = [\"translate.google.com\", \"translate.google.com.br\", \"translate.google.com.ar\"]\n",
    "    user = \"Mozilla/5.0 (Windows NT 10.0; Win64; x64) AppleWebKit/537.36 (KHTML, like Gecko) Chrome/103.0.0.0 Safari/537.36\"\n",
    "    \n",
    "    return Translator(service_urls=urls, user_agent=user, raise_exception=False, timeout=None)"
   ]
  },
  {
   "cell_type": "code",
   "execution_count": 107,
   "id": "d058845c",
   "metadata": {},
   "outputs": [],
   "source": [
    "def traduzir(frases):\n",
    "    for i in range(30):\n",
    "        try:\n",
    "            buffer = iniicar(translate(frases, dest='pt'))\n",
    "            return buffer\n",
    "        except:\n",
    "            #print('Error ao tentar traduzir')\n",
    "            time.sleep(3)\n",
    "            \n",
    "        "
   ]
  },
  {
   "cell_type": "code",
   "execution_count": 108,
   "id": "d526734a",
   "metadata": {},
   "outputs": [],
   "source": [
    "# Aqui estaria no main"
   ]
  },
  {
   "cell_type": "code",
   "execution_count": 109,
   "id": "c0559a48",
   "metadata": {},
   "outputs": [],
   "source": [
    "frases = [\"What's my user agent?\", \"Whats your name?\"]"
   ]
  },
  {
   "cell_type": "code",
   "execution_count": 110,
   "id": "9ce93e58",
   "metadata": {},
   "outputs": [
    {
     "name": "stdout",
     "output_type": "stream",
     "text": [
      "None\n"
     ]
    }
   ],
   "source": [
    "print(traduzir(frases))"
   ]
  },
  {
   "cell_type": "code",
   "execution_count": 111,
   "id": "fb05d33a",
   "metadata": {},
   "outputs": [
    {
     "ename": "TypeError",
     "evalue": "'NoneType' object is not iterable",
     "output_type": "error",
     "traceback": [
      "\u001b[1;31m---------------------------------------------------------------------------\u001b[0m",
      "\u001b[1;31mTypeError\u001b[0m                                 Traceback (most recent call last)",
      "Input \u001b[1;32mIn [111]\u001b[0m, in \u001b[0;36m<cell line: 2>\u001b[1;34m()\u001b[0m\n\u001b[0;32m      1\u001b[0m retornos \u001b[38;5;241m=\u001b[39m traduzir(frases)\n\u001b[1;32m----> 2\u001b[0m \u001b[38;5;28;01mfor\u001b[39;00m retorno \u001b[38;5;129;01min\u001b[39;00m retornos:\n\u001b[0;32m      3\u001b[0m     \u001b[38;5;28mprint\u001b[39m(retorno\u001b[38;5;241m.\u001b[39mtext)\n",
      "\u001b[1;31mTypeError\u001b[0m: 'NoneType' object is not iterable"
     ]
    }
   ],
   "source": [
    "retornos = traduzir(frases)\n",
    "for retorno in retornos:\n",
    "    print(retorno.text)"
   ]
  },
  {
   "cell_type": "code",
   "execution_count": null,
   "id": "3aa0eae4",
   "metadata": {},
   "outputs": [],
   "source": []
  }
 ],
 "metadata": {
  "kernelspec": {
   "display_name": "Python 3 (ipykernel)",
   "language": "python",
   "name": "python3"
  },
  "language_info": {
   "codemirror_mode": {
    "name": "ipython",
    "version": 3
   },
   "file_extension": ".py",
   "mimetype": "text/x-python",
   "name": "python",
   "nbconvert_exporter": "python",
   "pygments_lexer": "ipython3",
   "version": "3.9.12"
  }
 },
 "nbformat": 4,
 "nbformat_minor": 5
}

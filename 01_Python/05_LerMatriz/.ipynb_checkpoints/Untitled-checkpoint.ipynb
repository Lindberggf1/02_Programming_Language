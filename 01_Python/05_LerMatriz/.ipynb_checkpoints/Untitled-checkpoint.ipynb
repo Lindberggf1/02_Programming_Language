{
 "cells": [
  {
   "cell_type": "code",
   "execution_count": 37,
   "id": "a1f9f569",
   "metadata": {},
   "outputs": [
    {
     "data": {
      "text/plain": [
       "'\\nPrograma que le uma matriz de inteiros\\n    com m linha e n colunas e imprime o numero de linhas\\n    e de coluna nulas da matriz.\\n'"
      ]
     },
     "execution_count": 37,
     "metadata": {},
     "output_type": "execute_result"
    }
   ],
   "source": [
    "# ATIVIDADE 5\n",
    "'''\n",
    "Programa que le uma matriz de inteiros\n",
    "    com m linha e n colunas e imprime o numero de linhas\n",
    "    e de coluna nulas da matriz.\n",
    "'''"
   ]
  },
  {
   "cell_type": "code",
   "execution_count": 50,
   "id": "40b7b809",
   "metadata": {},
   "outputs": [],
   "source": [
    "import numpy as np\n",
    "from numpy import array"
   ]
  },
  {
   "cell_type": "code",
   "execution_count": 57,
   "id": "b5eec530",
   "metadata": {},
   "outputs": [
    {
     "name": "stdout",
     "output_type": "stream",
     "text": [
      "[[-3,0,6,11],[4,6,0,13],[8,0,13,5]]\n"
     ]
    }
   ],
   "source": [
    "# ATIVIDADE 5\n",
    "\n",
    "with open(\"MATRIZ2.txt\",\"r\") as arquivo:\n",
    "    p = array(arquivo.readline().strip())\n",
    "    print(p)\n",
    "#P = [[0,0,0,0,1],[0,0,0,0,0],[0,1,0,0,0],[0,0,0,0,0]]"
   ]
  },
  {
   "cell_type": "code",
   "execution_count": 59,
   "id": "5008863b",
   "metadata": {},
   "outputs": [
    {
     "ename": "TypeError",
     "evalue": "len() of unsized object",
     "output_type": "error",
     "traceback": [
      "\u001b[1;31m---------------------------------------------------------------------------\u001b[0m",
      "\u001b[1;31mTypeError\u001b[0m                                 Traceback (most recent call last)",
      "Input \u001b[1;32mIn [59]\u001b[0m, in \u001b[0;36m<cell line: 1>\u001b[1;34m()\u001b[0m\n\u001b[1;32m----> 1\u001b[0m \u001b[38;5;28;43mlen\u001b[39;49m\u001b[43m(\u001b[49m\u001b[43mp\u001b[49m\u001b[43m)\u001b[49m\n\u001b[0;32m      2\u001b[0m \u001b[38;5;28mlen\u001b[39m(p[\u001b[38;5;241m0\u001b[39m])\n",
      "\u001b[1;31mTypeError\u001b[0m: len() of unsized object"
     ]
    }
   ],
   "source": [
    "len(p)\n",
    "len(p[0])"
   ]
  },
  {
   "cell_type": "code",
   "execution_count": 53,
   "id": "25615a56",
   "metadata": {},
   "outputs": [
    {
     "name": "stdout",
     "output_type": "stream",
     "text": [
      "[[0,0,0,0,1],[0,0,0,0,0],[0,1,0,0,0],[0,0,0,0,0]]\n"
     ]
    }
   ],
   "source": [
    "matriz = p\n",
    "\n",
    "print(matriz)"
   ]
  },
  {
   "cell_type": "code",
   "execution_count": 54,
   "id": "cf48606d",
   "metadata": {},
   "outputs": [
    {
     "ename": "IndexError",
     "evalue": "tuple index out of range",
     "output_type": "error",
     "traceback": [
      "\u001b[1;31m---------------------------------------------------------------------------\u001b[0m",
      "\u001b[1;31mIndexError\u001b[0m                                Traceback (most recent call last)",
      "Input \u001b[1;32mIn [54]\u001b[0m, in \u001b[0;36m<cell line: 1>\u001b[1;34m()\u001b[0m\n\u001b[1;32m----> 1\u001b[0m \u001b[38;5;28mprint\u001b[39m (\u001b[38;5;124mf\u001b[39m\u001b[38;5;124m'\u001b[39m\u001b[38;5;124mNúmero de linhas: \u001b[39m\u001b[38;5;132;01m{\u001b[39;00mnp\u001b[38;5;241m.\u001b[39msize(matriz, \u001b[38;5;241m0\u001b[39m)\u001b[38;5;132;01m}\u001b[39;00m\u001b[38;5;124m'\u001b[39m)\n\u001b[0;32m      2\u001b[0m \u001b[38;5;28mprint\u001b[39m (\u001b[38;5;124mf\u001b[39m\u001b[38;5;124m'\u001b[39m\u001b[38;5;124mNúmero de colunas: \u001b[39m\u001b[38;5;132;01m{\u001b[39;00mnp\u001b[38;5;241m.\u001b[39msize(matriz, \u001b[38;5;241m1\u001b[39m)\u001b[38;5;132;01m}\u001b[39;00m\u001b[38;5;124m'\u001b[39m)\n",
      "File \u001b[1;32m<__array_function__ internals>:180\u001b[0m, in \u001b[0;36msize\u001b[1;34m(*args, **kwargs)\u001b[0m\n",
      "File \u001b[1;32m~\\anaconda3\\lib\\site-packages\\numpy\\core\\fromnumeric.py:3205\u001b[0m, in \u001b[0;36msize\u001b[1;34m(a, axis)\u001b[0m\n\u001b[0;32m   3203\u001b[0m \u001b[38;5;28;01melse\u001b[39;00m:\n\u001b[0;32m   3204\u001b[0m     \u001b[38;5;28;01mtry\u001b[39;00m:\n\u001b[1;32m-> 3205\u001b[0m         \u001b[38;5;28;01mreturn\u001b[39;00m \u001b[43ma\u001b[49m\u001b[38;5;241;43m.\u001b[39;49m\u001b[43mshape\u001b[49m\u001b[43m[\u001b[49m\u001b[43maxis\u001b[49m\u001b[43m]\u001b[49m\n\u001b[0;32m   3206\u001b[0m     \u001b[38;5;28;01mexcept\u001b[39;00m \u001b[38;5;167;01mAttributeError\u001b[39;00m:\n\u001b[0;32m   3207\u001b[0m         \u001b[38;5;28;01mreturn\u001b[39;00m asarray(a)\u001b[38;5;241m.\u001b[39mshape[axis]\n",
      "\u001b[1;31mIndexError\u001b[0m: tuple index out of range"
     ]
    }
   ],
   "source": [
    "print (f'Número de linhas: {np.size(matriz, 0)}')\n",
    "print (f'Número de colunas: {np.size(matriz, 1)}')"
   ]
  },
  {
   "cell_type": "code",
   "execution_count": 92,
   "id": "f182c520",
   "metadata": {},
   "outputs": [
    {
     "name": "stdout",
     "output_type": "stream",
     "text": [
      "['[-3,0,6,11],[4,6,0,13],[8,0,13,5]']\n"
     ]
    }
   ],
   "source": [
    "print(list(map(str, p.split())))"
   ]
  },
  {
   "cell_type": "code",
   "execution_count": 93,
   "id": "80123528",
   "metadata": {},
   "outputs": [
    {
     "name": "stdout",
     "output_type": "stream",
     "text": [
      "[-3, 0, 6, 11], [4, 6, 0, 13], [8, 0, 13, 5]\n"
     ]
    }
   ],
   "source": [
    "matriz = []\n",
    "\n",
    "with open('MATRIZ2.txt', newline='') as csvfile:\n",
    "    spamreader = csv.reader(csvfile, delimiter=',')\n",
    "    #matrix = [line for line in spamreader]\n",
    "    for row in spamreader:\n",
    "        print(', '.join(row))\n",
    "        linha = (', '.join(row))\n",
    "        matriz.append(linha)\n",
    "    "
   ]
  },
  {
   "cell_type": "code",
   "execution_count": 94,
   "id": "b56e92a0",
   "metadata": {},
   "outputs": [
    {
     "name": "stdout",
     "output_type": "stream",
     "text": [
      "['[-3, 0, 6, 11], [4, 6, 0, 13], [8, 0, 13, 5]']\n"
     ]
    }
   ],
   "source": [
    "print(matriz)"
   ]
  },
  {
   "cell_type": "code",
   "execution_count": 95,
   "id": "5d4eb80f",
   "metadata": {},
   "outputs": [],
   "source": [
    "def dimensoes(M):\n",
    "    linhas = len(M)\n",
    "    colunas = 0\n",
    "    if linhas > 0:\n",
    "        colunas = len(M[0])\n",
    "    print(linhas,'X', colunas)\n",
    "    return linhas, colunas"
   ]
  },
  {
   "cell_type": "code",
   "execution_count": 96,
   "id": "66fd9a3a",
   "metadata": {},
   "outputs": [],
   "source": [
    "def trasposta(A):\n",
    "    l,c = dimensoes(A)\n",
    "    #inicializa a matriz com zeros\n",
    "    #No caso, l colunas [0, 0, 0, ...0]\n",
    "    #c vezes == c linhas\n",
    "    transposta = [[0]*l for i in range(c)]\n",
    "    for i in range[l]:\n",
    "        for j in range[c]:\n",
    "            transposta[j][i] = A[i][j]\n",
    "    return transposta"
   ]
  },
  {
   "cell_type": "code",
   "execution_count": 97,
   "id": "2c246a63",
   "metadata": {},
   "outputs": [],
   "source": [
    "def ler_arquivo_entrada(P):\n",
    "    with open(P) as arquivo:\n",
    "        palavra = arquivo.readline().strip() # ( readline) Retorne todas as linhas do arquivo\n",
    "        matriz = []                          #( strip)  RemovE os espaços no início e no final da string\n",
    "        for linha in arquivo:\n",
    "            matriz.append(linha.strip())\n",
    "    return palavra, matriz"
   ]
  },
  {
   "cell_type": "code",
   "execution_count": 98,
   "id": "a2afbc30",
   "metadata": {},
   "outputs": [],
   "source": [
    "def contagem(a):\n",
    "    #l,c = trasposta(a)\n",
    "\n",
    "    linhasNula = 0\n",
    "    for i in range(a):\n",
    "        soma = 0\n",
    "        for j in range(c):\n",
    "            soma += a[i][j]\n",
    "        if(soma==0):\n",
    "                linhasNula += 1\n",
    "    colunasNulas = 0\n",
    "    for j in range(c):\n",
    "        soma = 0 \n",
    "        for i in range(l):\n",
    "            som += a[i][j]\n",
    "        if(soma==0):\n",
    "            colunasNulas +=1 \n",
    "    return linhasNulas, colunasNulas"
   ]
  },
  {
   "cell_type": "code",
   "execution_count": 99,
   "id": "bf94aa0d",
   "metadata": {},
   "outputs": [],
   "source": [
    "t = list(ler_arquivo_entrada('MATRIZ2.txt'))"
   ]
  },
  {
   "cell_type": "code",
   "execution_count": 86,
   "id": "912436d4",
   "metadata": {},
   "outputs": [
    {
     "name": "stdout",
     "output_type": "stream",
     "text": [
      "vetor texto ->  ['[-3,0,6,11],[4,6,0,13],[8,0,13,5]']\n",
      "\n",
      "vetor matriz ->  [['[-3,0,6,11],[4,6,0,13],[8,0,13,5]']]\n",
      "\n",
      "['[-3,0,6,11],[4,6,0,13],[8,0,13,5]']\n"
     ]
    }
   ],
   "source": [
    "arq = open('MATRIZ2.txt', 'r')  #abre o arquivo\n",
    "texto = []  #declaro um vetor\n",
    "matriz = [] #declaro um segundo vetor\n",
    "texto = arq.readlines() #quebra as linhas do arquivo em vetores \n",
    "print(\"vetor texto -> \",texto) #aqui eu mostro\n",
    "print(\"\")\n",
    "\n",
    "for i in range(len(texto)):          #esse for percorre a posições dp vetor texto\n",
    "    matriz.append(texto[i].split())  #aqui eu quebro nos espasos das palavras\n",
    "\n",
    "print(\"vetor matriz -> \",matriz) #mostra o vertor com um conjunto de vetores\n",
    "print(\"\")\n",
    "\n",
    "for i in range(len(texto)):          #mostra quedrando em linhas\n",
    "    print(matriz[i])  \n",
    "\n",
    "\n",
    "arq.close() #comando para fechar o arquivo"
   ]
  },
  {
   "cell_type": "code",
   "execution_count": 100,
   "id": "2186e110",
   "metadata": {},
   "outputs": [
    {
     "data": {
      "text/plain": [
       "33"
      ]
     },
     "execution_count": 100,
     "metadata": {},
     "output_type": "execute_result"
    }
   ],
   "source": [
    "len(p)"
   ]
  },
  {
   "cell_type": "code",
   "execution_count": 101,
   "id": "26c7a3fc",
   "metadata": {},
   "outputs": [
    {
     "name": "stdout",
     "output_type": "stream",
     "text": [
      "33 X 1\n",
      "33 1\n"
     ]
    }
   ],
   "source": [
    "#print(trasposta(p))\n",
    "l,c = dimensoes(p)\n",
    "\n",
    "print(l,c)"
   ]
  },
  {
   "cell_type": "code",
   "execution_count": 102,
   "id": "f7853875",
   "metadata": {},
   "outputs": [
    {
     "ename": "TypeError",
     "evalue": "'str' object cannot be interpreted as an integer",
     "output_type": "error",
     "traceback": [
      "\u001b[1;31m---------------------------------------------------------------------------\u001b[0m",
      "\u001b[1;31mTypeError\u001b[0m                                 Traceback (most recent call last)",
      "Input \u001b[1;32mIn [102]\u001b[0m, in \u001b[0;36m<cell line: 1>\u001b[1;34m()\u001b[0m\n\u001b[1;32m----> 1\u001b[0m l,c \u001b[38;5;241m=\u001b[39m \u001b[43mcontagem\u001b[49m\u001b[43m(\u001b[49m\u001b[43mp\u001b[49m\u001b[43m)\u001b[49m\n",
      "Input \u001b[1;32mIn [98]\u001b[0m, in \u001b[0;36mcontagem\u001b[1;34m(a)\u001b[0m\n\u001b[0;32m      1\u001b[0m \u001b[38;5;28;01mdef\u001b[39;00m \u001b[38;5;21mcontagem\u001b[39m(a):\n\u001b[0;32m      2\u001b[0m     \u001b[38;5;66;03m#l,c = trasposta(a)\u001b[39;00m\n\u001b[0;32m      4\u001b[0m     linhasNula \u001b[38;5;241m=\u001b[39m \u001b[38;5;241m0\u001b[39m\n\u001b[1;32m----> 5\u001b[0m     \u001b[38;5;28;01mfor\u001b[39;00m i \u001b[38;5;129;01min\u001b[39;00m \u001b[38;5;28;43mrange\u001b[39;49m\u001b[43m(\u001b[49m\u001b[43ma\u001b[49m\u001b[43m)\u001b[49m:\n\u001b[0;32m      6\u001b[0m         soma \u001b[38;5;241m=\u001b[39m \u001b[38;5;241m0\u001b[39m\n\u001b[0;32m      7\u001b[0m         \u001b[38;5;28;01mfor\u001b[39;00m j \u001b[38;5;129;01min\u001b[39;00m \u001b[38;5;28mrange\u001b[39m(c):\n",
      "\u001b[1;31mTypeError\u001b[0m: 'str' object cannot be interpreted as an integer"
     ]
    }
   ],
   "source": [
    "l,c = contagem(p)\n"
   ]
  },
  {
   "cell_type": "code",
   "execution_count": 103,
   "id": "ebd1991d",
   "metadata": {},
   "outputs": [
    {
     "name": "stdout",
     "output_type": "stream",
     "text": [
      "linhas nulas= 33\n",
      "colunas nulas=1\n"
     ]
    }
   ],
   "source": [
    "print(\"linhas nulas= {}\".format(l))\n",
    "print(\"colunas nulas={}\".format(c))"
   ]
  },
  {
   "cell_type": "code",
   "execution_count": null,
   "id": "a8f0da57",
   "metadata": {},
   "outputs": [],
   "source": []
  }
 ],
 "metadata": {
  "kernelspec": {
   "display_name": "Python 3 (ipykernel)",
   "language": "python",
   "name": "python3"
  },
  "language_info": {
   "codemirror_mode": {
    "name": "ipython",
    "version": 3
   },
   "file_extension": ".py",
   "mimetype": "text/x-python",
   "name": "python",
   "nbconvert_exporter": "python",
   "pygments_lexer": "ipython3",
   "version": "3.9.12"
  }
 },
 "nbformat": 4,
 "nbformat_minor": 5
}

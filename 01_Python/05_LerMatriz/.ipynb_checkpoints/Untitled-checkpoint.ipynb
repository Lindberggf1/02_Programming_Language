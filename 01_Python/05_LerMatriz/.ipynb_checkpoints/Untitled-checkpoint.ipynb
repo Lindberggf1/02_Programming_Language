{
 "cells": [
  {
   "cell_type": "code",
   "execution_count": 37,
   "id": "a1f9f569",
   "metadata": {},
   "outputs": [
    {
     "data": {
      "text/plain": [
       "'\\nPrograma que le uma matriz de inteiros\\n    com m linha e n colunas e imprime o numero de linhas\\n    e de coluna nulas da matriz.\\n'"
      ]
     },
     "execution_count": 37,
     "metadata": {},
     "output_type": "execute_result"
    }
   ],
   "source": [
    "# ATIVIDADE 5\n",
    "'''\n",
    "Programa que le uma matriz de inteiros\n",
    "    com m linha e n colunas e imprime o numero de linhas\n",
    "    e de coluna nulas da matriz.\n",
    "'''"
   ]
  },
  {
   "cell_type": "code",
   "execution_count": 86,
   "id": "b5eec530",
   "metadata": {},
   "outputs": [
    {
     "name": "stdout",
     "output_type": "stream",
     "text": [
      "[[-3,0,6,11],[4,6,0,13],[8,0,13,5]]\n"
     ]
    }
   ],
   "source": [
    "# ATIVIDADE 5\n",
    "\n",
    "import numpy as np\n",
    "\n",
    "with open(\"MATRIZ2.txt\",\"r\") as arquivo:\n",
    "    p = arquivo.read()\n",
    "    print(p)\n",
    "#P = [[0,0,0,0,1],[0,0,0,0,0],[0,1,0,0,0],[0,0,0,0,0]]"
   ]
  },
  {
   "cell_type": "code",
   "execution_count": 87,
   "id": "25615a56",
   "metadata": {},
   "outputs": [
    {
     "name": "stdout",
     "output_type": "stream",
     "text": [
      "[[-3,0,6,11],[4,6,0,13],[8,0,13,5]] ()\n"
     ]
    }
   ],
   "source": [
    "arr = np.array(p)\n",
    "print(arr, arr.shape)"
   ]
  },
  {
   "cell_type": "code",
   "execution_count": 88,
   "id": "cf48606d",
   "metadata": {},
   "outputs": [],
   "source": [
    "#list(map(lambda *i:[j for j in i], *p))"
   ]
  },
  {
   "cell_type": "code",
   "execution_count": 89,
   "id": "f182c520",
   "metadata": {},
   "outputs": [
    {
     "name": "stdout",
     "output_type": "stream",
     "text": [
      "['[[-3,0,6,11],[4,6,0,13],[8,0,13,5]]']\n"
     ]
    }
   ],
   "source": [
    "print(list(map(str, p.split())))"
   ]
  },
  {
   "cell_type": "code",
   "execution_count": 90,
   "id": "80123528",
   "metadata": {},
   "outputs": [],
   "source": [
    "matriz = []\n",
    "f = open(\"MATRIZ2.txt\",\"r\")\n",
    "for line in f:\n",
    "    linha = (line.split(','))\n",
    "    matriz.append(linha)"
   ]
  },
  {
   "cell_type": "code",
   "execution_count": 91,
   "id": "b56e92a0",
   "metadata": {},
   "outputs": [
    {
     "name": "stdout",
     "output_type": "stream",
     "text": [
      "[['[[-3', '0', '6', '11]', '[4', '6', '0', '13]', '[8', '0', '13', '5]]']]\n"
     ]
    }
   ],
   "source": [
    "print(matriz)"
   ]
  },
  {
   "cell_type": "code",
   "execution_count": 41,
   "id": "5d4eb80f",
   "metadata": {},
   "outputs": [],
   "source": [
    "def dimensoes(M):\n",
    "    linhas = len(M)\n",
    "    colunas = 0\n",
    "    if linhas > 0:\n",
    "        colunas = len(M[0])\n",
    "    print(linhas,'X', colunas)\n",
    "    return linhas, colunas"
   ]
  },
  {
   "cell_type": "code",
   "execution_count": 42,
   "id": "66fd9a3a",
   "metadata": {},
   "outputs": [],
   "source": [
    "def trasposta(A):\n",
    "    l,c = dimensoes(A)\n",
    "    #inicializa a matriz com zeros\n",
    "    #No caso, l colunas [0, 0, 0, ...0]\n",
    "    #c vezes == c linhas\n",
    "    transposta = [[0]*l for i in range(c)]\n",
    "    for i in range[l]:\n",
    "        for j in range[c]:\n",
    "            transposta[j][i] = A[i][j]\n",
    "    return transposta"
   ]
  },
  {
   "cell_type": "code",
   "execution_count": 43,
   "id": "2c246a63",
   "metadata": {},
   "outputs": [],
   "source": [
    "def ler_arquivo_entrada(P):\n",
    "    with open(P) as arquivo:\n",
    "        palavra = arquivo.readline().strip() # ( readline) Retorne todas as linhas do arquivo\n",
    "        matriz = []                          #( strip)  RemovE os espaços no início e no final da string\n",
    "        for linha in arquivo:\n",
    "            matriz.append(linha.strip())\n",
    "    return palavra, matriz"
   ]
  },
  {
   "cell_type": "code",
   "execution_count": 44,
   "id": "a2afbc30",
   "metadata": {},
   "outputs": [],
   "source": [
    "def contagem(a):\n",
    "    #l,c = trasposta(a)\n",
    "\n",
    "    linhasNula = 0\n",
    "    for i in range(a):\n",
    "        soma = 0\n",
    "        for j in range(c):\n",
    "            soma += a[i][j]\n",
    "        if(soma==0):\n",
    "                linhasNula += 1\n",
    "    colunasNulas = 0\n",
    "    for j in range(c):\n",
    "        soma = 0 \n",
    "        for i in range(l):\n",
    "            som += a[i][j]\n",
    "        if(soma==0):\n",
    "            colunasNulas +=1 \n",
    "    return linhasNulas, colunasNulas"
   ]
  },
  {
   "cell_type": "code",
   "execution_count": null,
   "id": "bf94aa0d",
   "metadata": {},
   "outputs": [],
   "source": []
  },
  {
   "cell_type": "code",
   "execution_count": 56,
   "id": "26c7a3fc",
   "metadata": {},
   "outputs": [
    {
     "ename": "TypeError",
     "evalue": "len() of unsized object",
     "output_type": "error",
     "traceback": [
      "\u001b[1;31m---------------------------------------------------------------------------\u001b[0m",
      "\u001b[1;31mTypeError\u001b[0m                                 Traceback (most recent call last)",
      "Input \u001b[1;32mIn [56]\u001b[0m, in \u001b[0;36m<cell line: 2>\u001b[1;34m()\u001b[0m\n\u001b[0;32m      1\u001b[0m \u001b[38;5;66;03m#print(trasposta(p))\u001b[39;00m\n\u001b[1;32m----> 2\u001b[0m l,c \u001b[38;5;241m=\u001b[39m \u001b[43mdimensoes\u001b[49m\u001b[43m(\u001b[49m\u001b[43marr\u001b[49m\u001b[43m)\u001b[49m\n\u001b[0;32m      4\u001b[0m \u001b[38;5;28mprint\u001b[39m(l,c)\n",
      "Input \u001b[1;32mIn [41]\u001b[0m, in \u001b[0;36mdimensoes\u001b[1;34m(M)\u001b[0m\n\u001b[0;32m      1\u001b[0m \u001b[38;5;28;01mdef\u001b[39;00m \u001b[38;5;21mdimensoes\u001b[39m(M):\n\u001b[1;32m----> 2\u001b[0m     linhas \u001b[38;5;241m=\u001b[39m \u001b[38;5;28;43mlen\u001b[39;49m\u001b[43m(\u001b[49m\u001b[43mM\u001b[49m\u001b[43m)\u001b[49m\n\u001b[0;32m      3\u001b[0m     colunas \u001b[38;5;241m=\u001b[39m \u001b[38;5;241m0\u001b[39m\n\u001b[0;32m      4\u001b[0m     \u001b[38;5;28;01mif\u001b[39;00m linhas \u001b[38;5;241m>\u001b[39m \u001b[38;5;241m0\u001b[39m:\n",
      "\u001b[1;31mTypeError\u001b[0m: len() of unsized object"
     ]
    }
   ],
   "source": [
    "#print(trasposta(p))\n",
    "l,c = dimensoes(arr)\n",
    "\n",
    "print(l,c)"
   ]
  },
  {
   "cell_type": "code",
   "execution_count": 57,
   "id": "f7853875",
   "metadata": {},
   "outputs": [
    {
     "ename": "TypeError",
     "evalue": "only integer scalar arrays can be converted to a scalar index",
     "output_type": "error",
     "traceback": [
      "\u001b[1;31m---------------------------------------------------------------------------\u001b[0m",
      "\u001b[1;31mTypeError\u001b[0m                                 Traceback (most recent call last)",
      "Input \u001b[1;32mIn [57]\u001b[0m, in \u001b[0;36m<cell line: 1>\u001b[1;34m()\u001b[0m\n\u001b[1;32m----> 1\u001b[0m l,c \u001b[38;5;241m=\u001b[39m \u001b[43mcontagem\u001b[49m\u001b[43m(\u001b[49m\u001b[43marr\u001b[49m\u001b[43m)\u001b[49m\n",
      "Input \u001b[1;32mIn [44]\u001b[0m, in \u001b[0;36mcontagem\u001b[1;34m(a)\u001b[0m\n\u001b[0;32m      1\u001b[0m \u001b[38;5;28;01mdef\u001b[39;00m \u001b[38;5;21mcontagem\u001b[39m(a):\n\u001b[0;32m      2\u001b[0m     \u001b[38;5;66;03m#l,c = trasposta(a)\u001b[39;00m\n\u001b[0;32m      4\u001b[0m     linhasNula \u001b[38;5;241m=\u001b[39m \u001b[38;5;241m0\u001b[39m\n\u001b[1;32m----> 5\u001b[0m     \u001b[38;5;28;01mfor\u001b[39;00m i \u001b[38;5;129;01min\u001b[39;00m \u001b[38;5;28;43mrange\u001b[39;49m\u001b[43m(\u001b[49m\u001b[43ma\u001b[49m\u001b[43m)\u001b[49m:\n\u001b[0;32m      6\u001b[0m         soma \u001b[38;5;241m=\u001b[39m \u001b[38;5;241m0\u001b[39m\n\u001b[0;32m      7\u001b[0m         \u001b[38;5;28;01mfor\u001b[39;00m j \u001b[38;5;129;01min\u001b[39;00m \u001b[38;5;28mrange\u001b[39m(c):\n",
      "\u001b[1;31mTypeError\u001b[0m: only integer scalar arrays can be converted to a scalar index"
     ]
    }
   ],
   "source": [
    "l,c = contagem(arr)\n"
   ]
  },
  {
   "cell_type": "code",
   "execution_count": 96,
   "id": "ebd1991d",
   "metadata": {},
   "outputs": [
    {
     "ename": "NameError",
     "evalue": "name 'l' is not defined",
     "output_type": "error",
     "traceback": [
      "\u001b[1;31m---------------------------------------------------------------------------\u001b[0m",
      "\u001b[1;31mNameError\u001b[0m                                 Traceback (most recent call last)",
      "Input \u001b[1;32mIn [96]\u001b[0m, in \u001b[0;36m<cell line: 1>\u001b[1;34m()\u001b[0m\n\u001b[1;32m----> 1\u001b[0m \u001b[38;5;28mprint\u001b[39m(\u001b[38;5;124m\"\u001b[39m\u001b[38;5;124mlinhas nulas= \u001b[39m\u001b[38;5;132;01m{}\u001b[39;00m\u001b[38;5;124m\"\u001b[39m\u001b[38;5;241m.\u001b[39mformat(\u001b[43ml\u001b[49m))\n\u001b[0;32m      2\u001b[0m \u001b[38;5;28mprint\u001b[39m(\u001b[38;5;124m\"\u001b[39m\u001b[38;5;124mcolunas nulas=\u001b[39m\u001b[38;5;132;01m{}\u001b[39;00m\u001b[38;5;124m\"\u001b[39m\u001b[38;5;241m.\u001b[39mformat(c))\n",
      "\u001b[1;31mNameError\u001b[0m: name 'l' is not defined"
     ]
    }
   ],
   "source": [
    "print(\"linhas nulas= {}\".format(l))\n",
    "print(\"colunas nulas={}\".format(c))"
   ]
  },
  {
   "cell_type": "code",
   "execution_count": null,
   "id": "a8f0da57",
   "metadata": {},
   "outputs": [],
   "source": []
  }
 ],
 "metadata": {
  "kernelspec": {
   "display_name": "Python 3 (ipykernel)",
   "language": "python",
   "name": "python3"
  },
  "language_info": {
   "codemirror_mode": {
    "name": "ipython",
    "version": 3
   },
   "file_extension": ".py",
   "mimetype": "text/x-python",
   "name": "python",
   "nbconvert_exporter": "python",
   "pygments_lexer": "ipython3",
   "version": "3.9.12"
  }
 },
 "nbformat": 4,
 "nbformat_minor": 5
}

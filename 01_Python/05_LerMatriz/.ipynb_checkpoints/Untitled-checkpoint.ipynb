{
 "cells": [
  {
   "cell_type": "code",
   "execution_count": 45,
   "id": "a1f9f569",
   "metadata": {},
   "outputs": [
    {
     "data": {
      "text/plain": [
       "'\\nPrograma que le uma matriz de inteiros\\n    com m linha e n colunas e imprime o numero de linhas\\n    e de coluna nulas da matriz.\\n'"
      ]
     },
     "execution_count": 45,
     "metadata": {},
     "output_type": "execute_result"
    }
   ],
   "source": [
    "# ATIVIDADE 5\n",
    "'''\n",
    "Programa que le uma matriz de inteiros\n",
    "    com m linha e n colunas e imprime o numero de linhas\n",
    "    e de coluna nulas da matriz.\n",
    "'''"
   ]
  },
  {
   "cell_type": "code",
   "execution_count": 46,
   "id": "40b7b809",
   "metadata": {},
   "outputs": [],
   "source": [
    "import numpy as np\n",
    "import csv\n",
    "from numpy import array"
   ]
  },
  {
   "cell_type": "code",
   "execution_count": 47,
   "id": "b5eec530",
   "metadata": {},
   "outputs": [
    {
     "name": "stdout",
     "output_type": "stream",
     "text": [
      "[[-3,6,0,11],[4,6,0,13],[8,13,0,5]]\n"
     ]
    }
   ],
   "source": [
    "# ATIVIDADE 5\n",
    "\n",
    "with open(\"MATRIZ2.txt\",\"r\") as arquivo:\n",
    "    p = arquivo.readline().strip()\n",
    "    p = p.replace('\\n', '')\n",
    "    p = p.replace(' ', '')\n",
    "    print(p)\n",
    "#P = [[0,0,0,0,1],[0,0,0,0,0],[0,1,0,0,0],[0,0,0,0,0]]"
   ]
  },
  {
   "cell_type": "code",
   "execution_count": 48,
   "id": "b1e03848",
   "metadata": {},
   "outputs": [
    {
     "name": "stdout",
     "output_type": "stream",
     "text": [
      "[[-3, 6,  0,  11], [4,  6, 0, 13], [8, 13,  0, 5]]\n"
     ]
    }
   ],
   "source": [
    "with open('MATRIZ2.txt') as csvfile:\n",
    "    spamreader = csv.reader(csvfile, delimiter=',')\n",
    "    for row in spamreader:\n",
    "        print(', '.join(row))\n",
    "    #print(matrix)"
   ]
  },
  {
   "cell_type": "code",
   "execution_count": 49,
   "id": "0e57b5aa",
   "metadata": {},
   "outputs": [],
   "source": [
    "def is_simple_number(value):\n",
    "    #if not value.strip().replace('-', '').replace('+', '').replace('.', '').isdigit():    \n",
    "    if value.strip().replace('-', '-').replace('+', '+'):\n",
    "        return True\n",
    "    if not value.strip().replace('.', '').isdigit():\n",
    "        return False\n",
    "    try:\n",
    "         float(value)\n",
    "    except ValueError:\n",
    "         return False\n",
    "    return True"
   ]
  },
  {
   "cell_type": "code",
   "execution_count": 50,
   "id": "5008863b",
   "metadata": {},
   "outputs": [],
   "source": [
    "#montar matriz \n",
    "Matriz = []  #Matriz mae\n",
    "i = 1\n",
    "\n",
    "while True: \n",
    "    \n",
    "    linha = [] #Criar as linhas em uma matriz generica\n",
    "            \n",
    "    value=''\n",
    "    \n",
    "    while True:\n",
    "        \n",
    "        #print(p[i])\n",
    "        if (p[i] != '') and (p[i] != '['):\n",
    "            if( p[i] != ',')and (p[i] != ']'):\n",
    "                if is_simple_number(p[i]): #popular as linhas apenas com numeros e sinais deles \n",
    "                    value=value+str(p[i])\n",
    "                    #print(p[i]) \n",
    "                    #print(value)\n",
    "        \n",
    "            if ((p[i] == ',')or(p[i] == ']')) and (value != ''):\n",
    "                linha.append(value)\n",
    "                value=''\n",
    "                #print(value) \n",
    "\n",
    "            if p[i] == ']': \n",
    "                Matriz.append(linha) #popular a Matriz Mae com a linha \n",
    "                #print(linha)\n",
    "                #linha.clear()  #limpar a matriz generica para linha\n",
    "                i += 1     # continuar o laco de onde paramos\n",
    "                break\n",
    "                        \n",
    "        i += 1     # continuar o laco de onde paramos            \n",
    "\n",
    "    if p[i] == ']': #sair do laço no fim da matriz mae\n",
    "        i += 1\n",
    "\n",
    "    if i == len(p): #sair do laço no fim da matriz mae\n",
    "        break\n",
    "    "
   ]
  },
  {
   "cell_type": "code",
   "execution_count": 51,
   "id": "25615a56",
   "metadata": {},
   "outputs": [
    {
     "name": "stdout",
     "output_type": "stream",
     "text": [
      "[['-3', '6', '0', '11'], ['4', '6', '0', '13'], ['8', '13', '0', '5']]\n"
     ]
    }
   ],
   "source": [
    "print(Matriz)"
   ]
  },
  {
   "cell_type": "code",
   "execution_count": 52,
   "id": "f182c520",
   "metadata": {},
   "outputs": [
    {
     "name": "stdout",
     "output_type": "stream",
     "text": [
      "['[[-3,6,0,11],[4,6,0,13],[8,13,0,5]]']\n"
     ]
    }
   ],
   "source": [
    "print(list(map(str, p.split())))"
   ]
  },
  {
   "cell_type": "code",
   "execution_count": 53,
   "id": "80123528",
   "metadata": {},
   "outputs": [
    {
     "name": "stdout",
     "output_type": "stream",
     "text": [
      "[['-3', '6', '0', '11'], ['4', '6', '0', '13'], ['8', '13', '0', '5']]\n"
     ]
    }
   ],
   "source": [
    "n = array(Matriz)\n",
    "\n",
    "print(Matriz)"
   ]
  },
  {
   "cell_type": "code",
   "execution_count": 54,
   "id": "c4485604",
   "metadata": {},
   "outputs": [
    {
     "name": "stdout",
     "output_type": "stream",
     "text": [
      "3 x 4\n"
     ]
    }
   ],
   "source": [
    "print(len(Matriz), 'x', len(Matriz[0]))"
   ]
  },
  {
   "cell_type": "code",
   "execution_count": 55,
   "id": "bad4f06f",
   "metadata": {},
   "outputs": [
    {
     "name": "stdout",
     "output_type": "stream",
     "text": [
      "35 x 1\n"
     ]
    }
   ],
   "source": [
    "print(len(p), 'x', len(p[0]))"
   ]
  },
  {
   "cell_type": "code",
   "execution_count": 56,
   "id": "5d4eb80f",
   "metadata": {},
   "outputs": [],
   "source": [
    "def dimensoes(M):\n",
    "    #com python\n",
    "    linhas = len(M)\n",
    "    colunas = 0\n",
    "    if linhas > 0:\n",
    "        colunas = len(M[0])\n",
    "    #print(linhas,'X', colunas)\n",
    "    \n",
    "    #com numpy\n",
    "    #print (f'Número de linhas: {np.size(M, 0)}')\n",
    "    #print (f'Número de colunas: {np.size(M, 1)}')\n",
    "    \n",
    "    return linhas, colunas"
   ]
  },
  {
   "cell_type": "code",
   "execution_count": 57,
   "id": "66fd9a3a",
   "metadata": {},
   "outputs": [],
   "source": [
    "def trasposta(A):\n",
    "    l,c = dimensoes(A)\n",
    "    #inicializa a matriz com zeros\n",
    "    #No caso, l colunas [0, 0, 0, ...0]\n",
    "    #c vezes == c linhas\n",
    "   # print('transposta',l,'x',c)\n",
    "    transposta = [[0]*l for i in range(c)]\n",
    "    #print(transposta)\n",
    "    for i in range(l):\n",
    "        #print(i,'x',l)\n",
    "        for j in range(c):\n",
    "            #print(j,'x',c)\n",
    "            transposta[j][i] = A[i][j]\n",
    "          \n",
    "    linhas,colunas = dimensoes(transposta)\n",
    "    \n",
    "    return linhas, colunas , transposta"
   ]
  },
  {
   "cell_type": "code",
   "execution_count": 58,
   "id": "2c246a63",
   "metadata": {},
   "outputs": [],
   "source": [
    "def ler_arquivo_entrada(P):\n",
    "    with open(P) as arquivo:\n",
    "        palavra = arquivo.readline().strip() # ( readline) Retorne todas as linhas do arquivo\n",
    "        matriz = []                          #( strip)  RemovE os espaços no início e no final da string\n",
    "        for linha in arquivo:\n",
    "            matriz.append(linha.strip())\n",
    "    return palavra, matriz"
   ]
  },
  {
   "cell_type": "code",
   "execution_count": 59,
   "id": "a2afbc30",
   "metadata": {},
   "outputs": [],
   "source": [
    "def contagem(a):\n",
    "    l,c ,transp = trasposta(a)\n",
    "    \n",
    "    print(l,c, '->', transp)\n",
    "\n",
    "    linhasNulas = 0\n",
    "    for i in range(l):\n",
    "        soma = 0\n",
    "        for j in range(c):\n",
    "            soma += int(transp[i][j])\n",
    "        if(soma==0):\n",
    "                linhasNulas += 1\n",
    "                \n",
    "    colunasNulas = 0\n",
    "    for j in range(c):\n",
    "        som = 0 \n",
    "        for i in range(l):\n",
    "            som += int(transp[i][j])\n",
    "        if(som==0):\n",
    "            colunasNulas +=1 \n",
    "    return linhasNulas, colunasNulas"
   ]
  },
  {
   "cell_type": "code",
   "execution_count": 60,
   "id": "26c7a3fc",
   "metadata": {},
   "outputs": [
    {
     "name": "stdout",
     "output_type": "stream",
     "text": [
      "3 4 -> [['-3', '6', '0', '11'], ['4', '6', '0', '13'], ['8', '13', '0', '5']]\n"
     ]
    }
   ],
   "source": [
    "#print(trasposta(p))\n",
    "l,c = dimensoes(Matriz)\n",
    "\n",
    "print(l,c, '->', Matriz)"
   ]
  },
  {
   "cell_type": "code",
   "execution_count": 61,
   "id": "f7853875",
   "metadata": {},
   "outputs": [
    {
     "name": "stdout",
     "output_type": "stream",
     "text": [
      "4 3 -> [['-3', '4', '8'], ['6', '6', '13'], ['0', '0', '0'], ['11', '13', '5']]\n"
     ]
    }
   ],
   "source": [
    "l,c = contagem(Matriz)"
   ]
  },
  {
   "cell_type": "code",
   "execution_count": 62,
   "id": "ebd1991d",
   "metadata": {},
   "outputs": [
    {
     "name": "stdout",
     "output_type": "stream",
     "text": [
      "linhas nulas = 1\n",
      "colunas nulas = 0\n"
     ]
    }
   ],
   "source": [
    "print(\"linhas nulas = {}\".format(l))\n",
    "print(\"colunas nulas = {}\".format(c))"
   ]
  },
  {
   "cell_type": "code",
   "execution_count": null,
   "id": "832e37e5",
   "metadata": {},
   "outputs": [],
   "source": []
  }
 ],
 "metadata": {
  "kernelspec": {
   "display_name": "Python 3 (ipykernel)",
   "language": "python",
   "name": "python3"
  },
  "language_info": {
   "codemirror_mode": {
    "name": "ipython",
    "version": 3
   },
   "file_extension": ".py",
   "mimetype": "text/x-python",
   "name": "python",
   "nbconvert_exporter": "python",
   "pygments_lexer": "ipython3",
   "version": "3.9.12"
  }
 },
 "nbformat": 4,
 "nbformat_minor": 5
}

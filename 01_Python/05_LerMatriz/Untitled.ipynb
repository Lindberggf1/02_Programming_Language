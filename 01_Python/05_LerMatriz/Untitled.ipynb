{
 "cells": [
  {
   "cell_type": "code",
   "execution_count": 38,
   "id": "a1f9f569",
   "metadata": {},
   "outputs": [
    {
     "data": {
      "text/plain": [
       "'\\nPrograma que le uma matriz de inteiros\\n    com m linha e n colunas e imprime o numero de linhas\\n    e de coluna nulas da matriz.\\n'"
      ]
     },
     "execution_count": 38,
     "metadata": {},
     "output_type": "execute_result"
    }
   ],
   "source": [
    "# ATIVIDADE 5\n",
    "'''\n",
    "Programa que le uma matriz de inteiros\n",
    "    com m linha e n colunas e imprime o numero de linhas\n",
    "    e de coluna nulas da matriz.\n",
    "'''"
   ]
  },
  {
   "cell_type": "code",
   "execution_count": 9,
   "id": "40b7b809",
   "metadata": {},
   "outputs": [],
   "source": [
    "import numpy as np\n",
    "import csv\n",
    "from numpy import array"
   ]
  },
  {
   "cell_type": "code",
   "execution_count": 27,
   "id": "b5eec530",
   "metadata": {},
   "outputs": [
    {
     "name": "stdout",
     "output_type": "stream",
     "text": [
      "[[-3,0,6,11],[4,6,0,13],[8,0,13,5]]\n"
     ]
    }
   ],
   "source": [
    "# ATIVIDADE 5\n",
    "\n",
    "with open(\"MATRIZ2.txt\",\"r\") as arquivo:\n",
    "    p = arquivo.readline().strip()\n",
    "    p = p.replace('\\n', '')\n",
    "    p = p.replace(' ', '')\n",
    "    print(p)\n",
    "#P = [[0,0,0,0,1],[0,0,0,0,0],[0,1,0,0,0],[0,0,0,0,0]]"
   ]
  },
  {
   "cell_type": "code",
   "execution_count": 33,
   "id": "b1e03848",
   "metadata": {},
   "outputs": [
    {
     "name": "stdout",
     "output_type": "stream",
     "text": [
      "['[[-3', '0', '6', '11]', '[4', '6', '0', '13]', '[8', '0', '13', '5]]']\n",
      "[[\"[['-3'\", '0', '6', \"'11']\", '[4', '6', '0', '13]', '[8', '0', '13', '5]]']]\n"
     ]
    }
   ],
   "source": [
    "with open('MATRIZ2.txt') as csvfile:\n",
    "    spamreader = csv.reader(csvfile, delimiter=',')\n",
    "    for row in spamreader:\n",
    "        print(', '.join(row))\n",
    "    print(matrix)"
   ]
  },
  {
   "cell_type": "code",
   "execution_count": 29,
   "id": "0e57b5aa",
   "metadata": {},
   "outputs": [],
   "source": [
    "def is_simple_number(value):\n",
    "    if not value.strip().replace('-', '').replace('+', '').replace('.', '').isdigit():\n",
    "        return False\n",
    "    try:\n",
    "         float(value)\n",
    "    except ValueError:\n",
    "         return False\n",
    "    return True"
   ]
  },
  {
   "cell_type": "code",
   "execution_count": 30,
   "id": "8b108d88",
   "metadata": {},
   "outputs": [
    {
     "name": "stdout",
     "output_type": "stream",
     "text": [
      "[[\"[['-3'\", '0', '6', \"'11']\", '[4', '6', '0', '13]', '[8', '0', '13', '5]]']]\n"
     ]
    }
   ],
   "source": [
    "Mt = list(matrix)\n",
    "\n",
    "print(Mt)"
   ]
  },
  {
   "cell_type": "code",
   "execution_count": 34,
   "id": "41ed4294",
   "metadata": {},
   "outputs": [
    {
     "name": "stdout",
     "output_type": "stream",
     "text": [
      "['-', '3']\n"
     ]
    }
   ],
   "source": [
    "Matriz_2.append(p[3])\n",
    "\n",
    "print(Matriz_2)"
   ]
  },
  {
   "cell_type": "code",
   "execution_count": null,
   "id": "3ec09b6d",
   "metadata": {},
   "outputs": [],
   "source": []
  },
  {
   "cell_type": "code",
   "execution_count": null,
   "id": "0e3c5fe0",
   "metadata": {},
   "outputs": [],
   "source": []
  },
  {
   "cell_type": "code",
   "execution_count": null,
   "id": "94785e8f",
   "metadata": {},
   "outputs": [],
   "source": []
  },
  {
   "cell_type": "code",
   "execution_count": 35,
   "id": "5008863b",
   "metadata": {},
   "outputs": [
    {
     "name": "stdout",
     "output_type": "stream",
     "text": [
      "3\n",
      "0\n",
      "6\n",
      "1\n",
      "1\n",
      "['3', '0', '6', '1', '1']\n",
      "4\n",
      "6\n",
      "0\n",
      "1\n",
      "3\n",
      "['4', '6', '0', '1', '3']\n",
      "8\n",
      "0\n",
      "1\n",
      "3\n",
      "5\n",
      "['8', '0', '1', '3', '5']\n"
     ]
    }
   ],
   "source": [
    "#montar matriz \n",
    "Matriz = []  #Matriz mae\n",
    "i = 1\n",
    "\n",
    "while True: \n",
    "    \n",
    "    linha = [] #Criar as linhas em uma matriz generica\n",
    "    \n",
    "    while True:\n",
    "        \n",
    "        if is_simple_number(p[i]): #popular as linhas \n",
    "            linha.append(p[i])\n",
    "            print(p[i]) \n",
    "                \n",
    "        if p[i] == ']':  \n",
    "            Matriz.append(linha) #popular a Matriz Mae com a linha \n",
    "            print(linha)\n",
    "            #linha.clear()  #limpar a matriz generica para linha\n",
    "            i = i + 1     # continuar o laco de onde paramos\n",
    "            break                \n",
    "        i = i + 1     # continuar o laco de onde paramos            \n",
    "\n",
    "    if p[i] == ']': #sair do laço no fim da matriz mae\n",
    "        i = i + 1\n",
    "\n",
    "    if i == len(p): #sair do laço no fim da matriz mae\n",
    "        break\n",
    "    "
   ]
  },
  {
   "cell_type": "code",
   "execution_count": 36,
   "id": "25615a56",
   "metadata": {},
   "outputs": [
    {
     "name": "stdout",
     "output_type": "stream",
     "text": [
      "[['3', '0', '6', '1', '1'], ['4', '6', '0', '1', '3'], ['8', '0', '1', '3', '5']]\n"
     ]
    }
   ],
   "source": [
    "print(Matriz)"
   ]
  },
  {
   "cell_type": "code",
   "execution_count": null,
   "id": "cf48606d",
   "metadata": {},
   "outputs": [],
   "source": []
  },
  {
   "cell_type": "code",
   "execution_count": 38,
   "id": "f182c520",
   "metadata": {},
   "outputs": [
    {
     "name": "stdout",
     "output_type": "stream",
     "text": [
      "['[[-3,0,6,11],[4,6,0,13],[8,0,13,5]]']\n"
     ]
    }
   ],
   "source": [
    "print(list(map(str, p.split())))"
   ]
  },
  {
   "cell_type": "code",
   "execution_count": 39,
   "id": "80123528",
   "metadata": {},
   "outputs": [
    {
     "name": "stdout",
     "output_type": "stream",
     "text": [
      "[['3', '0', '6', '1', '1'], ['4', '6', '0', '1', '3'], ['8', '0', '1', '3', '5']]\n"
     ]
    }
   ],
   "source": [
    "n = array(Matriz)\n",
    "\n",
    "print(Matriz)"
   ]
  },
  {
   "cell_type": "code",
   "execution_count": 41,
   "id": "b56e92a0",
   "metadata": {},
   "outputs": [
    {
     "ename": "AttributeError",
     "evalue": "'str' object has no attribute 'tolist'",
     "output_type": "error",
     "traceback": [
      "\u001b[1;31m---------------------------------------------------------------------------\u001b[0m",
      "\u001b[1;31mAttributeError\u001b[0m                            Traceback (most recent call last)",
      "Input \u001b[1;32mIn [41]\u001b[0m, in \u001b[0;36m<cell line: 1>\u001b[1;34m()\u001b[0m\n\u001b[1;32m----> 1\u001b[0m n1 \u001b[38;5;241m=\u001b[39m \u001b[43mp\u001b[49m\u001b[38;5;241;43m.\u001b[39;49m\u001b[43mtolist\u001b[49m()\n\u001b[0;32m      3\u001b[0m \u001b[38;5;28mprint\u001b[39m(n1)\n",
      "\u001b[1;31mAttributeError\u001b[0m: 'str' object has no attribute 'tolist'"
     ]
    }
   ],
   "source": [
    "n1 = p.tolist()\n",
    "\n",
    "print(n1)"
   ]
  },
  {
   "cell_type": "code",
   "execution_count": 44,
   "id": "c4485604",
   "metadata": {},
   "outputs": [
    {
     "name": "stdout",
     "output_type": "stream",
     "text": [
      "35 x 1\n"
     ]
    }
   ],
   "source": [
    "print(len(p), 'x', len(p[0]))"
   ]
  },
  {
   "cell_type": "code",
   "execution_count": 45,
   "id": "5d4eb80f",
   "metadata": {},
   "outputs": [],
   "source": [
    "def dimensoes(M):\n",
    "    #com python\n",
    "    linhas = len(M)\n",
    "    colunas = 0\n",
    "    if linhas > 0:\n",
    "        colunas = len(M[0])\n",
    "    print(linhas,'X', colunas)\n",
    "    \n",
    "    #com numpy\n",
    "    print (f'Número de linhas: {np.size(M, 0)}')\n",
    "    print (f'Número de colunas: {np.size(M, 1)}')\n",
    "    \n",
    "    return linhas, colunas"
   ]
  },
  {
   "cell_type": "code",
   "execution_count": 46,
   "id": "66fd9a3a",
   "metadata": {},
   "outputs": [],
   "source": [
    "def trasposta(A):\n",
    "    l,c = dimensoes(A)\n",
    "    #inicializa a matriz com zeros\n",
    "    #No caso, l colunas [0, 0, 0, ...0]\n",
    "    #c vezes == c linhas\n",
    "    transposta = [[0]*l for i in range(c)]\n",
    "    for i in range[l]:\n",
    "        for j in range[c]:\n",
    "            transposta[j][i] = A[i][j]\n",
    "    return transposta"
   ]
  },
  {
   "cell_type": "code",
   "execution_count": 47,
   "id": "2c246a63",
   "metadata": {},
   "outputs": [],
   "source": [
    "def ler_arquivo_entrada(P):\n",
    "    with open(P) as arquivo:\n",
    "        palavra = arquivo.readline().strip() # ( readline) Retorne todas as linhas do arquivo\n",
    "        matriz = []                          #( strip)  RemovE os espaços no início e no final da string\n",
    "        for linha in arquivo:\n",
    "            matriz.append(linha.strip())\n",
    "    return palavra, matriz"
   ]
  },
  {
   "cell_type": "code",
   "execution_count": 48,
   "id": "a2afbc30",
   "metadata": {},
   "outputs": [],
   "source": [
    "def contagem(a):\n",
    "    l,c = trasposta(a)\n",
    "\n",
    "    linhasNula = 0\n",
    "    for i in range(l):\n",
    "        soma = 0\n",
    "        for j in range(c):\n",
    "            soma += a[i][j]\n",
    "        if(soma==0):\n",
    "                linhasNula += 1\n",
    "    colunasNulas = 0\n",
    "    for j in range(c):\n",
    "        soma = 0 \n",
    "        for i in range(l):\n",
    "            som += a[i][j]\n",
    "        if(soma==0):\n",
    "            colunasNulas +=1 \n",
    "    return linhasNulas, colunasNulas"
   ]
  },
  {
   "cell_type": "code",
   "execution_count": null,
   "id": "bf94aa0d",
   "metadata": {},
   "outputs": [],
   "source": []
  },
  {
   "cell_type": "code",
   "execution_count": null,
   "id": "912436d4",
   "metadata": {},
   "outputs": [],
   "source": []
  },
  {
   "cell_type": "code",
   "execution_count": null,
   "id": "2186e110",
   "metadata": {},
   "outputs": [],
   "source": []
  },
  {
   "cell_type": "code",
   "execution_count": 51,
   "id": "26c7a3fc",
   "metadata": {},
   "outputs": [
    {
     "name": "stdout",
     "output_type": "stream",
     "text": [
      "35 X 1\n"
     ]
    },
    {
     "ename": "IndexError",
     "evalue": "tuple index out of range",
     "output_type": "error",
     "traceback": [
      "\u001b[1;31m---------------------------------------------------------------------------\u001b[0m",
      "\u001b[1;31mAttributeError\u001b[0m                            Traceback (most recent call last)",
      "File \u001b[1;32m~\\Anaconda3\\lib\\site-packages\\numpy\\core\\fromnumeric.py:3205\u001b[0m, in \u001b[0;36msize\u001b[1;34m(a, axis)\u001b[0m\n\u001b[0;32m   3204\u001b[0m \u001b[38;5;28;01mtry\u001b[39;00m:\n\u001b[1;32m-> 3205\u001b[0m     \u001b[38;5;28;01mreturn\u001b[39;00m \u001b[43ma\u001b[49m\u001b[38;5;241;43m.\u001b[39;49m\u001b[43mshape\u001b[49m[axis]\n\u001b[0;32m   3206\u001b[0m \u001b[38;5;28;01mexcept\u001b[39;00m \u001b[38;5;167;01mAttributeError\u001b[39;00m:\n",
      "\u001b[1;31mAttributeError\u001b[0m: 'str' object has no attribute 'shape'",
      "\nDuring handling of the above exception, another exception occurred:\n",
      "\u001b[1;31mIndexError\u001b[0m                                Traceback (most recent call last)",
      "Input \u001b[1;32mIn [51]\u001b[0m, in \u001b[0;36m<cell line: 2>\u001b[1;34m()\u001b[0m\n\u001b[0;32m      1\u001b[0m \u001b[38;5;66;03m#print(trasposta(p))\u001b[39;00m\n\u001b[1;32m----> 2\u001b[0m l,c \u001b[38;5;241m=\u001b[39m \u001b[43mdimensoes\u001b[49m\u001b[43m(\u001b[49m\u001b[43mp\u001b[49m\u001b[43m)\u001b[49m\n\u001b[0;32m      4\u001b[0m \u001b[38;5;28mprint\u001b[39m(l,c)\n",
      "Input \u001b[1;32mIn [45]\u001b[0m, in \u001b[0;36mdimensoes\u001b[1;34m(M)\u001b[0m\n\u001b[0;32m      7\u001b[0m \u001b[38;5;28mprint\u001b[39m(linhas,\u001b[38;5;124m'\u001b[39m\u001b[38;5;124mX\u001b[39m\u001b[38;5;124m'\u001b[39m, colunas)\n\u001b[0;32m      9\u001b[0m \u001b[38;5;66;03m#com numpy\u001b[39;00m\n\u001b[1;32m---> 10\u001b[0m \u001b[38;5;28mprint\u001b[39m (\u001b[38;5;124mf\u001b[39m\u001b[38;5;124m'\u001b[39m\u001b[38;5;124mNúmero de linhas: \u001b[39m\u001b[38;5;132;01m{\u001b[39;00mnp\u001b[38;5;241m.\u001b[39msize(M, \u001b[38;5;241m0\u001b[39m)\u001b[38;5;132;01m}\u001b[39;00m\u001b[38;5;124m'\u001b[39m)\n\u001b[0;32m     11\u001b[0m \u001b[38;5;28mprint\u001b[39m (\u001b[38;5;124mf\u001b[39m\u001b[38;5;124m'\u001b[39m\u001b[38;5;124mNúmero de colunas: \u001b[39m\u001b[38;5;132;01m{\u001b[39;00mnp\u001b[38;5;241m.\u001b[39msize(M, \u001b[38;5;241m1\u001b[39m)\u001b[38;5;132;01m}\u001b[39;00m\u001b[38;5;124m'\u001b[39m)\n\u001b[0;32m     13\u001b[0m \u001b[38;5;28;01mreturn\u001b[39;00m linhas, colunas\n",
      "File \u001b[1;32m<__array_function__ internals>:180\u001b[0m, in \u001b[0;36msize\u001b[1;34m(*args, **kwargs)\u001b[0m\n",
      "File \u001b[1;32m~\\Anaconda3\\lib\\site-packages\\numpy\\core\\fromnumeric.py:3207\u001b[0m, in \u001b[0;36msize\u001b[1;34m(a, axis)\u001b[0m\n\u001b[0;32m   3205\u001b[0m     \u001b[38;5;28;01mreturn\u001b[39;00m a\u001b[38;5;241m.\u001b[39mshape[axis]\n\u001b[0;32m   3206\u001b[0m \u001b[38;5;28;01mexcept\u001b[39;00m \u001b[38;5;167;01mAttributeError\u001b[39;00m:\n\u001b[1;32m-> 3207\u001b[0m     \u001b[38;5;28;01mreturn\u001b[39;00m \u001b[43masarray\u001b[49m\u001b[43m(\u001b[49m\u001b[43ma\u001b[49m\u001b[43m)\u001b[49m\u001b[38;5;241;43m.\u001b[39;49m\u001b[43mshape\u001b[49m\u001b[43m[\u001b[49m\u001b[43maxis\u001b[49m\u001b[43m]\u001b[49m\n",
      "\u001b[1;31mIndexError\u001b[0m: tuple index out of range"
     ]
    }
   ],
   "source": [
    "#print(trasposta(p))\n",
    "l,c = dimensoes(p)\n",
    "\n",
    "print(l,c)"
   ]
  },
  {
   "cell_type": "code",
   "execution_count": 52,
   "id": "f7853875",
   "metadata": {},
   "outputs": [
    {
     "name": "stdout",
     "output_type": "stream",
     "text": [
      "35 X 1\n"
     ]
    },
    {
     "ename": "IndexError",
     "evalue": "tuple index out of range",
     "output_type": "error",
     "traceback": [
      "\u001b[1;31m---------------------------------------------------------------------------\u001b[0m",
      "\u001b[1;31mAttributeError\u001b[0m                            Traceback (most recent call last)",
      "File \u001b[1;32m~\\Anaconda3\\lib\\site-packages\\numpy\\core\\fromnumeric.py:3205\u001b[0m, in \u001b[0;36msize\u001b[1;34m(a, axis)\u001b[0m\n\u001b[0;32m   3204\u001b[0m \u001b[38;5;28;01mtry\u001b[39;00m:\n\u001b[1;32m-> 3205\u001b[0m     \u001b[38;5;28;01mreturn\u001b[39;00m \u001b[43ma\u001b[49m\u001b[38;5;241;43m.\u001b[39;49m\u001b[43mshape\u001b[49m[axis]\n\u001b[0;32m   3206\u001b[0m \u001b[38;5;28;01mexcept\u001b[39;00m \u001b[38;5;167;01mAttributeError\u001b[39;00m:\n",
      "\u001b[1;31mAttributeError\u001b[0m: 'str' object has no attribute 'shape'",
      "\nDuring handling of the above exception, another exception occurred:\n",
      "\u001b[1;31mIndexError\u001b[0m                                Traceback (most recent call last)",
      "Input \u001b[1;32mIn [52]\u001b[0m, in \u001b[0;36m<cell line: 1>\u001b[1;34m()\u001b[0m\n\u001b[1;32m----> 1\u001b[0m l,c \u001b[38;5;241m=\u001b[39m \u001b[43mcontagem\u001b[49m\u001b[43m(\u001b[49m\u001b[43mp\u001b[49m\u001b[43m)\u001b[49m\n",
      "Input \u001b[1;32mIn [48]\u001b[0m, in \u001b[0;36mcontagem\u001b[1;34m(a)\u001b[0m\n\u001b[0;32m      1\u001b[0m \u001b[38;5;28;01mdef\u001b[39;00m \u001b[38;5;21mcontagem\u001b[39m(a):\n\u001b[1;32m----> 2\u001b[0m     l,c \u001b[38;5;241m=\u001b[39m \u001b[43mtrasposta\u001b[49m\u001b[43m(\u001b[49m\u001b[43ma\u001b[49m\u001b[43m)\u001b[49m\n\u001b[0;32m      4\u001b[0m     linhasNula \u001b[38;5;241m=\u001b[39m \u001b[38;5;241m0\u001b[39m\n\u001b[0;32m      5\u001b[0m     \u001b[38;5;28;01mfor\u001b[39;00m i \u001b[38;5;129;01min\u001b[39;00m \u001b[38;5;28mrange\u001b[39m(l):\n",
      "Input \u001b[1;32mIn [46]\u001b[0m, in \u001b[0;36mtrasposta\u001b[1;34m(A)\u001b[0m\n\u001b[0;32m      1\u001b[0m \u001b[38;5;28;01mdef\u001b[39;00m \u001b[38;5;21mtrasposta\u001b[39m(A):\n\u001b[1;32m----> 2\u001b[0m     l,c \u001b[38;5;241m=\u001b[39m \u001b[43mdimensoes\u001b[49m\u001b[43m(\u001b[49m\u001b[43mA\u001b[49m\u001b[43m)\u001b[49m\n\u001b[0;32m      3\u001b[0m     \u001b[38;5;66;03m#inicializa a matriz com zeros\u001b[39;00m\n\u001b[0;32m      4\u001b[0m     \u001b[38;5;66;03m#No caso, l colunas [0, 0, 0, ...0]\u001b[39;00m\n\u001b[0;32m      5\u001b[0m     \u001b[38;5;66;03m#c vezes == c linhas\u001b[39;00m\n\u001b[0;32m      6\u001b[0m     transposta \u001b[38;5;241m=\u001b[39m [[\u001b[38;5;241m0\u001b[39m]\u001b[38;5;241m*\u001b[39ml \u001b[38;5;28;01mfor\u001b[39;00m i \u001b[38;5;129;01min\u001b[39;00m \u001b[38;5;28mrange\u001b[39m(c)]\n",
      "Input \u001b[1;32mIn [45]\u001b[0m, in \u001b[0;36mdimensoes\u001b[1;34m(M)\u001b[0m\n\u001b[0;32m      7\u001b[0m \u001b[38;5;28mprint\u001b[39m(linhas,\u001b[38;5;124m'\u001b[39m\u001b[38;5;124mX\u001b[39m\u001b[38;5;124m'\u001b[39m, colunas)\n\u001b[0;32m      9\u001b[0m \u001b[38;5;66;03m#com numpy\u001b[39;00m\n\u001b[1;32m---> 10\u001b[0m \u001b[38;5;28mprint\u001b[39m (\u001b[38;5;124mf\u001b[39m\u001b[38;5;124m'\u001b[39m\u001b[38;5;124mNúmero de linhas: \u001b[39m\u001b[38;5;132;01m{\u001b[39;00mnp\u001b[38;5;241m.\u001b[39msize(M, \u001b[38;5;241m0\u001b[39m)\u001b[38;5;132;01m}\u001b[39;00m\u001b[38;5;124m'\u001b[39m)\n\u001b[0;32m     11\u001b[0m \u001b[38;5;28mprint\u001b[39m (\u001b[38;5;124mf\u001b[39m\u001b[38;5;124m'\u001b[39m\u001b[38;5;124mNúmero de colunas: \u001b[39m\u001b[38;5;132;01m{\u001b[39;00mnp\u001b[38;5;241m.\u001b[39msize(M, \u001b[38;5;241m1\u001b[39m)\u001b[38;5;132;01m}\u001b[39;00m\u001b[38;5;124m'\u001b[39m)\n\u001b[0;32m     13\u001b[0m \u001b[38;5;28;01mreturn\u001b[39;00m linhas, colunas\n",
      "File \u001b[1;32m<__array_function__ internals>:180\u001b[0m, in \u001b[0;36msize\u001b[1;34m(*args, **kwargs)\u001b[0m\n",
      "File \u001b[1;32m~\\Anaconda3\\lib\\site-packages\\numpy\\core\\fromnumeric.py:3207\u001b[0m, in \u001b[0;36msize\u001b[1;34m(a, axis)\u001b[0m\n\u001b[0;32m   3205\u001b[0m     \u001b[38;5;28;01mreturn\u001b[39;00m a\u001b[38;5;241m.\u001b[39mshape[axis]\n\u001b[0;32m   3206\u001b[0m \u001b[38;5;28;01mexcept\u001b[39;00m \u001b[38;5;167;01mAttributeError\u001b[39;00m:\n\u001b[1;32m-> 3207\u001b[0m     \u001b[38;5;28;01mreturn\u001b[39;00m \u001b[43masarray\u001b[49m\u001b[43m(\u001b[49m\u001b[43ma\u001b[49m\u001b[43m)\u001b[49m\u001b[38;5;241;43m.\u001b[39;49m\u001b[43mshape\u001b[49m\u001b[43m[\u001b[49m\u001b[43maxis\u001b[49m\u001b[43m]\u001b[49m\n",
      "\u001b[1;31mIndexError\u001b[0m: tuple index out of range"
     ]
    }
   ],
   "source": [
    "l,c = contagem(p)\n"
   ]
  },
  {
   "cell_type": "code",
   "execution_count": 53,
   "id": "ebd1991d",
   "metadata": {},
   "outputs": [
    {
     "name": "stdout",
     "output_type": "stream",
     "text": [
      "linhas nulas= 3\n",
      "colunas nulas=5\n"
     ]
    }
   ],
   "source": [
    "print(\"linhas nulas= {}\".format(l))\n",
    "print(\"colunas nulas={}\".format(c))"
   ]
  },
  {
   "cell_type": "code",
   "execution_count": null,
   "id": "a8f0da57",
   "metadata": {},
   "outputs": [],
   "source": []
  },
  {
   "cell_type": "code",
   "execution_count": null,
   "id": "832e37e5",
   "metadata": {},
   "outputs": [],
   "source": []
  }
 ],
 "metadata": {
  "kernelspec": {
   "display_name": "Python 3 (ipykernel)",
   "language": "python",
   "name": "python3"
  },
  "language_info": {
   "codemirror_mode": {
    "name": "ipython",
    "version": 3
   },
   "file_extension": ".py",
   "mimetype": "text/x-python",
   "name": "python",
   "nbconvert_exporter": "python",
   "pygments_lexer": "ipython3",
   "version": "3.9.12"
  }
 },
 "nbformat": 4,
 "nbformat_minor": 5
}
